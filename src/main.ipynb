{
 "cells": [
  {
   "cell_type": "markdown",
   "metadata": {},
   "source": [
    "<hr>\n",
    "\n",
    "# **Stock Market Sentimental Prediction with OpenAI**\n",
    "\n",
    "<hr>\n",
    "\n",
    "\n",
    "**Today in the stock market, staying informed about news and events is crucial for making strategic decisions. ecognizing the impact of sentiment on market trends is essential to adjust strategies accordingly. The process begins with accessing vast amounts of market news available through various sources.**"
   ]
  },
  {
   "cell_type": "markdown",
   "metadata": {},
   "source": [
    "<hr>\n",
    "\n",
    "# **Step 1: Importing of the needed libraries**"
   ]
  },
  {
   "cell_type": "code",
   "execution_count": 3,
   "metadata": {},
   "outputs": [
    {
     "name": "stdout",
     "output_type": "stream",
     "text": [
      "Requirement already satisfied: openai in c:\\users\\aman raghuvanshi\\appdata\\local\\programs\\python\\python311\\lib\\site-packages (1.12.0)\n",
      "Requirement already satisfied: anyio<5,>=3.5.0 in c:\\users\\aman raghuvanshi\\appdata\\local\\programs\\python\\python311\\lib\\site-packages (from openai) (4.2.0)\n",
      "Requirement already satisfied: distro<2,>=1.7.0 in c:\\users\\aman raghuvanshi\\appdata\\local\\programs\\python\\python311\\lib\\site-packages (from openai) (1.9.0)\n",
      "Requirement already satisfied: httpx<1,>=0.23.0 in c:\\users\\aman raghuvanshi\\appdata\\local\\programs\\python\\python311\\lib\\site-packages (from openai) (0.26.0)\n",
      "Requirement already satisfied: pydantic<3,>=1.9.0 in c:\\users\\aman raghuvanshi\\appdata\\local\\programs\\python\\python311\\lib\\site-packages (from openai) (2.6.1)\n",
      "Requirement already satisfied: sniffio in c:\\users\\aman raghuvanshi\\appdata\\local\\programs\\python\\python311\\lib\\site-packages (from openai) (1.3.0)\n",
      "Requirement already satisfied: tqdm>4 in c:\\users\\aman raghuvanshi\\appdata\\local\\programs\\python\\python311\\lib\\site-packages (from openai) (4.66.2)\n",
      "Requirement already satisfied: typing-extensions<5,>=4.7 in c:\\users\\aman raghuvanshi\\appdata\\local\\programs\\python\\python311\\lib\\site-packages (from openai) (4.8.0)\n",
      "Requirement already satisfied: idna>=2.8 in c:\\users\\aman raghuvanshi\\appdata\\local\\programs\\python\\python311\\lib\\site-packages (from anyio<5,>=3.5.0->openai) (3.4)\n",
      "Requirement already satisfied: certifi in c:\\users\\aman raghuvanshi\\appdata\\local\\programs\\python\\python311\\lib\\site-packages (from httpx<1,>=0.23.0->openai) (2023.7.22)\n",
      "Requirement already satisfied: httpcore==1.* in c:\\users\\aman raghuvanshi\\appdata\\local\\programs\\python\\python311\\lib\\site-packages (from httpx<1,>=0.23.0->openai) (1.0.3)\n",
      "Requirement already satisfied: h11<0.15,>=0.13 in c:\\users\\aman raghuvanshi\\appdata\\local\\programs\\python\\python311\\lib\\site-packages (from httpcore==1.*->httpx<1,>=0.23.0->openai) (0.14.0)\n",
      "Requirement already satisfied: annotated-types>=0.4.0 in c:\\users\\aman raghuvanshi\\appdata\\local\\programs\\python\\python311\\lib\\site-packages (from pydantic<3,>=1.9.0->openai) (0.6.0)\n",
      "Requirement already satisfied: pydantic-core==2.16.2 in c:\\users\\aman raghuvanshi\\appdata\\local\\programs\\python\\python311\\lib\\site-packages (from pydantic<3,>=1.9.0->openai) (2.16.2)\n",
      "Requirement already satisfied: colorama in c:\\users\\aman raghuvanshi\\appdata\\local\\programs\\python\\python311\\lib\\site-packages (from tqdm>4->openai) (0.4.6)\n",
      "Note: you may need to restart the kernel to use updated packages.\n",
      "Requirement already satisfied: langchain in c:\\users\\aman raghuvanshi\\appdata\\local\\programs\\python\\python311\\lib\\site-packages (0.1.7)\n",
      "Requirement already satisfied: PyYAML>=5.3 in c:\\users\\aman raghuvanshi\\appdata\\local\\programs\\python\\python311\\lib\\site-packages (from langchain) (6.0.1)\n",
      "Requirement already satisfied: SQLAlchemy<3,>=1.4 in c:\\users\\aman raghuvanshi\\appdata\\local\\programs\\python\\python311\\lib\\site-packages (from langchain) (2.0.25)\n",
      "Requirement already satisfied: aiohttp<4.0.0,>=3.8.3 in c:\\users\\aman raghuvanshi\\appdata\\local\\programs\\python\\python311\\lib\\site-packages (from langchain) (3.9.3)\n",
      "Requirement already satisfied: dataclasses-json<0.7,>=0.5.7 in c:\\users\\aman raghuvanshi\\appdata\\local\\programs\\python\\python311\\lib\\site-packages (from langchain) (0.6.4)\n",
      "Requirement already satisfied: jsonpatch<2.0,>=1.33 in c:\\users\\aman raghuvanshi\\appdata\\local\\programs\\python\\python311\\lib\\site-packages (from langchain) (1.33)\n",
      "Requirement already satisfied: langchain-community<0.1,>=0.0.20 in c:\\users\\aman raghuvanshi\\appdata\\local\\programs\\python\\python311\\lib\\site-packages (from langchain) (0.0.20)\n",
      "Requirement already satisfied: langchain-core<0.2,>=0.1.22 in c:\\users\\aman raghuvanshi\\appdata\\local\\programs\\python\\python311\\lib\\site-packages (from langchain) (0.1.23)\n",
      "Requirement already satisfied: langsmith<0.1,>=0.0.83 in c:\\users\\aman raghuvanshi\\appdata\\local\\programs\\python\\python311\\lib\\site-packages (from langchain) (0.0.87)\n",
      "Requirement already satisfied: numpy<2,>=1 in c:\\users\\aman raghuvanshi\\appdata\\local\\programs\\python\\python311\\lib\\site-packages (from langchain) (1.26.2)\n",
      "Requirement already satisfied: pydantic<3,>=1 in c:\\users\\aman raghuvanshi\\appdata\\local\\programs\\python\\python311\\lib\\site-packages (from langchain) (2.6.1)\n",
      "Requirement already satisfied: requests<3,>=2 in c:\\users\\aman raghuvanshi\\appdata\\local\\programs\\python\\python311\\lib\\site-packages (from langchain) (2.31.0)\n",
      "Requirement already satisfied: tenacity<9.0.0,>=8.1.0 in c:\\users\\aman raghuvanshi\\appdata\\local\\programs\\python\\python311\\lib\\site-packages (from langchain) (8.2.3)\n",
      "Requirement already satisfied: aiosignal>=1.1.2 in c:\\users\\aman raghuvanshi\\appdata\\local\\programs\\python\\python311\\lib\\site-packages (from aiohttp<4.0.0,>=3.8.3->langchain) (1.3.1)\n",
      "Requirement already satisfied: attrs>=17.3.0 in c:\\users\\aman raghuvanshi\\appdata\\local\\programs\\python\\python311\\lib\\site-packages (from aiohttp<4.0.0,>=3.8.3->langchain) (23.1.0)\n",
      "Requirement already satisfied: frozenlist>=1.1.1 in c:\\users\\aman raghuvanshi\\appdata\\local\\programs\\python\\python311\\lib\\site-packages (from aiohttp<4.0.0,>=3.8.3->langchain) (1.4.1)\n",
      "Requirement already satisfied: multidict<7.0,>=4.5 in c:\\users\\aman raghuvanshi\\appdata\\local\\programs\\python\\python311\\lib\\site-packages (from aiohttp<4.0.0,>=3.8.3->langchain) (6.0.5)\n",
      "Requirement already satisfied: yarl<2.0,>=1.0 in c:\\users\\aman raghuvanshi\\appdata\\local\\programs\\python\\python311\\lib\\site-packages (from aiohttp<4.0.0,>=3.8.3->langchain) (1.9.4)\n",
      "Requirement already satisfied: marshmallow<4.0.0,>=3.18.0 in c:\\users\\aman raghuvanshi\\appdata\\local\\programs\\python\\python311\\lib\\site-packages (from dataclasses-json<0.7,>=0.5.7->langchain) (3.20.2)\n",
      "Requirement already satisfied: typing-inspect<1,>=0.4.0 in c:\\users\\aman raghuvanshi\\appdata\\local\\programs\\python\\python311\\lib\\site-packages (from dataclasses-json<0.7,>=0.5.7->langchain) (0.9.0)\n",
      "Requirement already satisfied: jsonpointer>=1.9 in c:\\users\\aman raghuvanshi\\appdata\\local\\programs\\python\\python311\\lib\\site-packages (from jsonpatch<2.0,>=1.33->langchain) (2.4)\n",
      "Requirement already satisfied: anyio<5,>=3 in c:\\users\\aman raghuvanshi\\appdata\\local\\programs\\python\\python311\\lib\\site-packages (from langchain-core<0.2,>=0.1.22->langchain) (4.2.0)\n",
      "Requirement already satisfied: packaging<24.0,>=23.2 in c:\\users\\aman raghuvanshi\\appdata\\local\\programs\\python\\python311\\lib\\site-packages (from langchain-core<0.2,>=0.1.22->langchain) (23.2)\n",
      "Requirement already satisfied: annotated-types>=0.4.0 in c:\\users\\aman raghuvanshi\\appdata\\local\\programs\\python\\python311\\lib\\site-packages (from pydantic<3,>=1->langchain) (0.6.0)\n",
      "Requirement already satisfied: pydantic-core==2.16.2 in c:\\users\\aman raghuvanshi\\appdata\\local\\programs\\python\\python311\\lib\\site-packages (from pydantic<3,>=1->langchain) (2.16.2)\n",
      "Requirement already satisfied: typing-extensions>=4.6.1 in c:\\users\\aman raghuvanshi\\appdata\\local\\programs\\python\\python311\\lib\\site-packages (from pydantic<3,>=1->langchain) (4.8.0)\n",
      "Requirement already satisfied: charset-normalizer<4,>=2 in c:\\users\\aman raghuvanshi\\appdata\\local\\programs\\python\\python311\\lib\\site-packages (from requests<3,>=2->langchain) (3.3.2)\n",
      "Requirement already satisfied: idna<4,>=2.5 in c:\\users\\aman raghuvanshi\\appdata\\local\\programs\\python\\python311\\lib\\site-packages (from requests<3,>=2->langchain) (3.4)\n",
      "Requirement already satisfied: urllib3<3,>=1.21.1 in c:\\users\\aman raghuvanshi\\appdata\\local\\programs\\python\\python311\\lib\\site-packages (from requests<3,>=2->langchain) (2.1.0)\n",
      "Requirement already satisfied: certifi>=2017.4.17 in c:\\users\\aman raghuvanshi\\appdata\\local\\programs\\python\\python311\\lib\\site-packages (from requests<3,>=2->langchain) (2023.7.22)\n",
      "Requirement already satisfied: greenlet!=0.4.17 in c:\\users\\aman raghuvanshi\\appdata\\local\\programs\\python\\python311\\lib\\site-packages (from SQLAlchemy<3,>=1.4->langchain) (3.0.3)\n",
      "Requirement already satisfied: sniffio>=1.1 in c:\\users\\aman raghuvanshi\\appdata\\local\\programs\\python\\python311\\lib\\site-packages (from anyio<5,>=3->langchain-core<0.2,>=0.1.22->langchain) (1.3.0)\n",
      "Requirement already satisfied: mypy-extensions>=0.3.0 in c:\\users\\aman raghuvanshi\\appdata\\local\\programs\\python\\python311\\lib\\site-packages (from typing-inspect<1,>=0.4.0->dataclasses-json<0.7,>=0.5.7->langchain) (1.0.0)\n",
      "Note: you may need to restart the kernel to use updated packages.\n",
      "Requirement already satisfied: eodhd in c:\\users\\aman raghuvanshi\\appdata\\local\\programs\\python\\python311\\lib\\site-packages (1.0.28)\n",
      "Requirement already satisfied: websockets>=11.0.3 in c:\\users\\aman raghuvanshi\\appdata\\local\\programs\\python\\python311\\lib\\site-packages (from eodhd) (12.0)\n",
      "Requirement already satisfied: websocket-client>=1.6.3 in c:\\users\\aman raghuvanshi\\appdata\\local\\programs\\python\\python311\\lib\\site-packages (from eodhd) (1.7.0)\n",
      "Requirement already satisfied: requests>=2.31.0 in c:\\users\\aman raghuvanshi\\appdata\\local\\programs\\python\\python311\\lib\\site-packages (from eodhd) (2.31.0)\n",
      "Requirement already satisfied: rich>=13.5.2 in c:\\users\\aman raghuvanshi\\appdata\\local\\programs\\python\\python311\\lib\\site-packages (from eodhd) (13.6.0)\n",
      "Requirement already satisfied: pandas>=2.1.0 in c:\\users\\aman raghuvanshi\\appdata\\local\\programs\\python\\python311\\lib\\site-packages (from eodhd) (2.1.3)\n",
      "Requirement already satisfied: numpy>=1.25.2 in c:\\users\\aman raghuvanshi\\appdata\\local\\programs\\python\\python311\\lib\\site-packages (from eodhd) (1.26.2)\n",
      "Requirement already satisfied: matplotlib>=3.7.2 in c:\\users\\aman raghuvanshi\\appdata\\local\\programs\\python\\python311\\lib\\site-packages (from eodhd) (3.8.2)\n",
      "Requirement already satisfied: contourpy>=1.0.1 in c:\\users\\aman raghuvanshi\\appdata\\local\\programs\\python\\python311\\lib\\site-packages (from matplotlib>=3.7.2->eodhd) (1.2.0)\n",
      "Requirement already satisfied: cycler>=0.10 in c:\\users\\aman raghuvanshi\\appdata\\local\\programs\\python\\python311\\lib\\site-packages (from matplotlib>=3.7.2->eodhd) (0.12.1)\n",
      "Requirement already satisfied: fonttools>=4.22.0 in c:\\users\\aman raghuvanshi\\appdata\\local\\programs\\python\\python311\\lib\\site-packages (from matplotlib>=3.7.2->eodhd) (4.47.0)\n",
      "Requirement already satisfied: kiwisolver>=1.3.1 in c:\\users\\aman raghuvanshi\\appdata\\local\\programs\\python\\python311\\lib\\site-packages (from matplotlib>=3.7.2->eodhd) (1.4.5)\n",
      "Requirement already satisfied: packaging>=20.0 in c:\\users\\aman raghuvanshi\\appdata\\local\\programs\\python\\python311\\lib\\site-packages (from matplotlib>=3.7.2->eodhd) (23.2)\n",
      "Requirement already satisfied: pillow>=8 in c:\\users\\aman raghuvanshi\\appdata\\local\\programs\\python\\python311\\lib\\site-packages (from matplotlib>=3.7.2->eodhd) (10.1.0)\n",
      "Requirement already satisfied: pyparsing>=2.3.1 in c:\\users\\aman raghuvanshi\\appdata\\local\\programs\\python\\python311\\lib\\site-packages (from matplotlib>=3.7.2->eodhd) (3.1.1)\n",
      "Requirement already satisfied: python-dateutil>=2.7 in c:\\users\\aman raghuvanshi\\appdata\\local\\programs\\python\\python311\\lib\\site-packages (from matplotlib>=3.7.2->eodhd) (2.8.2)\n",
      "Requirement already satisfied: pytz>=2020.1 in c:\\users\\aman raghuvanshi\\appdata\\local\\programs\\python\\python311\\lib\\site-packages (from pandas>=2.1.0->eodhd) (2023.3.post1)\n",
      "Requirement already satisfied: tzdata>=2022.1 in c:\\users\\aman raghuvanshi\\appdata\\local\\programs\\python\\python311\\lib\\site-packages (from pandas>=2.1.0->eodhd) (2023.3)\n",
      "Requirement already satisfied: charset-normalizer<4,>=2 in c:\\users\\aman raghuvanshi\\appdata\\local\\programs\\python\\python311\\lib\\site-packages (from requests>=2.31.0->eodhd) (3.3.2)\n",
      "Requirement already satisfied: idna<4,>=2.5 in c:\\users\\aman raghuvanshi\\appdata\\local\\programs\\python\\python311\\lib\\site-packages (from requests>=2.31.0->eodhd) (3.4)\n",
      "Requirement already satisfied: urllib3<3,>=1.21.1 in c:\\users\\aman raghuvanshi\\appdata\\local\\programs\\python\\python311\\lib\\site-packages (from requests>=2.31.0->eodhd) (2.1.0)\n",
      "Requirement already satisfied: certifi>=2017.4.17 in c:\\users\\aman raghuvanshi\\appdata\\local\\programs\\python\\python311\\lib\\site-packages (from requests>=2.31.0->eodhd) (2023.7.22)\n",
      "Requirement already satisfied: markdown-it-py>=2.2.0 in c:\\users\\aman raghuvanshi\\appdata\\local\\programs\\python\\python311\\lib\\site-packages (from rich>=13.5.2->eodhd) (3.0.0)\n",
      "Requirement already satisfied: pygments<3.0.0,>=2.13.0 in c:\\users\\aman raghuvanshi\\appdata\\local\\programs\\python\\python311\\lib\\site-packages (from rich>=13.5.2->eodhd) (2.16.1)\n",
      "Requirement already satisfied: mdurl~=0.1 in c:\\users\\aman raghuvanshi\\appdata\\local\\programs\\python\\python311\\lib\\site-packages (from markdown-it-py>=2.2.0->rich>=13.5.2->eodhd) (0.1.2)\n",
      "Requirement already satisfied: six>=1.5 in c:\\users\\aman raghuvanshi\\appdata\\local\\programs\\python\\python311\\lib\\site-packages (from python-dateutil>=2.7->matplotlib>=3.7.2->eodhd) (1.16.0)\n",
      "Note: you may need to restart the kernel to use updated packages.\n",
      "Requirement already satisfied: config in c:\\users\\aman raghuvanshi\\appdata\\local\\programs\\python\\python311\\lib\\site-packages (0.5.1)\n",
      "Note: you may need to restart the kernel to use updated packages.\n",
      "Collecting python-dotenv\n",
      "  Downloading python_dotenv-1.0.1-py3-none-any.whl.metadata (23 kB)\n",
      "Downloading python_dotenv-1.0.1-py3-none-any.whl (19 kB)\n",
      "Installing collected packages: python-dotenv\n",
      "Successfully installed python-dotenv-1.0.1\n",
      "Note: you may need to restart the kernel to use updated packages.\n"
     ]
    }
   ],
   "source": [
    "%pip install openai\n",
    "%pip install langchain\n",
    "%pip install eodhd\n",
    "%pip install config\n",
    "%pip install python-dotenv"
   ]
  },
  {
   "cell_type": "code",
   "execution_count": 4,
   "metadata": {},
   "outputs": [],
   "source": [
    "import os\n",
    "import re\n",
    "import pandas as pd\n",
    "import config as cfg\n",
    "import requests as rq\n",
    "from eodhd import APIClient\n",
    "from dotenv import load_dotenv\n",
    "from langchain.chains import LLMChain\n",
    "from langchain.prompts import PromptTemplate\n",
    "from langchain.chat_models import ChatOpenAI"
   ]
  },
  {
   "cell_type": "markdown",
   "metadata": {},
   "source": [
    "<hr>\n",
    "\n",
    "**We can proceed to the next step which is activating the API key.**\n",
    "\n",
    "<hr>"
   ]
  },
  {
   "cell_type": "code",
   "execution_count": 11,
   "metadata": {},
   "outputs": [],
   "source": [
    "try:\n",
    "    load_dotenv()\n",
    "except FileNotFoundError:\n",
    "    print(\"Warning: Could not find .env file. Skipping token loading.\")\n",
    "\n",
    "# Retrieving the token from the environment variable securely\n",
    "try:\n",
    "    token = os.environ.get(\"API_TOKEN\")\n",
    "except KeyError:\n",
    "    print(\"Error: Missing expected environment variable `{}`.\".format(\"YOUR_TOKEN_VARIABLE_NAME\"))\n",
    "    raise\n"
   ]
  },
  {
   "cell_type": "code",
   "execution_count": null,
   "metadata": {},
   "outputs": [],
   "source": []
  }
 ],
 "metadata": {
  "kernelspec": {
   "display_name": "Python 3",
   "language": "python",
   "name": "python3"
  },
  "language_info": {
   "codemirror_mode": {
    "name": "ipython",
    "version": 3
   },
   "file_extension": ".py",
   "mimetype": "text/x-python",
   "name": "python",
   "nbconvert_exporter": "python",
   "pygments_lexer": "ipython3",
   "version": "3.11.3"
  }
 },
 "nbformat": 4,
 "nbformat_minor": 2
}
